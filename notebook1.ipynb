{
 "cells": [
  {
   "cell_type": "markdown",
   "id": "3c2fb5c3",
   "metadata": {},
   "source": [
    "1. Subir el notebook"
   ]
  },
  {
   "cell_type": "code",
   "execution_count": null,
   "id": "ca442010",
   "metadata": {},
   "outputs": [],
   "source": [
    "print(\"Subir el notebook\")"
   ]
  }
 ],
 "metadata": {
  "kernelspec": {
   "display_name": "Python 3 (ipykernel)",
   "language": "python",
   "name": "python3"
  },
  "language_info": {
   "codemirror_mode": {
    "name": "ipython",
    "version": 3
   },
   "file_extension": ".py",
   "mimetype": "text/x-python",
   "name": "python",
   "nbconvert_exporter": "python",
   "pygments_lexer": "ipython3",
   "version": "3.7.12"
  }
 },
 "nbformat": 4,
 "nbformat_minor": 5
}
