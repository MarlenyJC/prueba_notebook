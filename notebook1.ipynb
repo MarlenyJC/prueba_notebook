{
 "cells": [
  {
   "cell_type": "markdown",
   "id": "f4eccce0",
   "metadata": {},
   "source": [
    "1. Subir el notebook"
   ]
  },
  {
   "cell_type": "code",
   "execution_count": 1,
   "id": "6427b7be",
   "metadata": {},
   "outputs": [
    {
     "name": "stdout",
     "output_type": "stream",
     "text": [
      "Subir el notebook\n"
     ]
    }
   ],
   "source": [
    "print(\"Subir el notebook\")"
   ]
  },
  {
   "cell_type": "markdown",
   "id": "a286f7a2",
   "metadata": {},
   "source": [
    "2. Subir primer cambio"
   ]
  },
  {
   "cell_type": "code",
   "execution_count": 2,
   "id": "13e15d43",
   "metadata": {},
   "outputs": [
    {
     "name": "stdout",
     "output_type": "stream",
     "text": [
      "cambio 1\n"
     ]
    }
   ],
   "source": [
    "print(\"cambio 1\")"
   ]
  },
  {
   "cell_type": "code",
   "execution_count": null,
   "id": "a54debec",
   "metadata": {},
   "outputs": [],
   "source": []
  }
 ],
 "metadata": {
  "kernelspec": {
   "display_name": "Python 3 (ipykernel)",
   "language": "python",
   "name": "python3"
  },
  "language_info": {
   "codemirror_mode": {
    "name": "ipython",
    "version": 3
   },
   "file_extension": ".py",
   "mimetype": "text/x-python",
   "name": "python",
   "nbconvert_exporter": "python",
   "pygments_lexer": "ipython3",
   "version": "3.7.12"
  }
 },
 "nbformat": 4,
 "nbformat_minor": 5
}
