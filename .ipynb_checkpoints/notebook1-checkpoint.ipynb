{
 "cells": [
  {
   "cell_type": "markdown",
   "id": "7e20f047",
   "metadata": {},
   "source": [
    "1. Subir el notebook"
   ]
  },
  {
   "cell_type": "code",
   "execution_count": null,
   "id": "69c433ec",
   "metadata": {},
   "outputs": [],
   "source": [
    "print(\"Subir el notebook\")"
   ]
  },
  {
   "cell_type": "markdown",
   "id": "9c614bbe",
   "metadata": {},
   "source": [
    "2. Subir primer cambio"
   ]
  },
  {
   "cell_type": "code",
   "execution_count": null,
   "id": "c89792c9",
   "metadata": {},
   "outputs": [],
   "source": [
    "print(\"cambio 1\")"
   ]
  }
 ],
 "metadata": {
  "kernelspec": {
   "display_name": "Python 3 (ipykernel)",
   "language": "python",
   "name": "python3"
  },
  "language_info": {
   "codemirror_mode": {
    "name": "ipython",
    "version": 3
   },
   "file_extension": ".py",
   "mimetype": "text/x-python",
   "name": "python",
   "nbconvert_exporter": "python",
   "pygments_lexer": "ipython3",
   "version": "3.7.12"
  }
 },
 "nbformat": 4,
 "nbformat_minor": 5
}
